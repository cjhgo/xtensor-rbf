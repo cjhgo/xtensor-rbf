{
 "cells": [
  {
   "cell_type": "code",
   "execution_count": 2,
   "metadata": {},
   "outputs": [],
   "source": [
    "import numpy as np\n",
    "from scipy import linalg\n",
    "import time\n"
   ]
  },
  {
   "cell_type": "code",
   "execution_count": 3,
   "metadata": {},
   "outputs": [],
   "source": [
    "P0=np.load(\"./data/p0.npy\")\n",
    "P1=np.load(\"./data/p1.npy\")"
   ]
  },
  {
   "cell_type": "code",
   "execution_count": 4,
   "metadata": {},
   "outputs": [
    {
     "output_type": "execute_result",
     "data": {
      "text/plain": "array([[320.        , 788.82683613],\n       [311.60746914, 788.83225613],\n       [303.18294956, 788.84096208],\n       ...,\n       [460.85363851,  38.69969541],\n       [472.33393162,  38.71294764],\n       [484.06239566,  38.71496746]])"
     },
     "metadata": {},
     "execution_count": 4
    }
   ],
   "source": [
    "P1"
   ]
  },
  {
   "cell_type": "code",
   "execution_count": 5,
   "metadata": {},
   "outputs": [],
   "source": [
    "\n",
    "from scipy.interpolate import Rbf"
   ]
  },
  {
   "cell_type": "code",
   "execution_count": 6,
   "metadata": {},
   "outputs": [
    {
     "output_type": "execute_result",
     "data": {
      "text/plain": "0.09676909446716309"
     },
     "metadata": {},
     "execution_count": 6
    }
   ],
   "source": [
    "x=P1[:,1]\n",
    "y=P1[:,0]\n",
    "z=P0[:,0]\n",
    "t1=time.time()\n",
    "rbf0=Rbf(x,y,z,function=\"thin_plate\", smooth=0.1)\n",
    "t2=time.time()\n",
    "A=rbf0.A\n",
    "di=rbf0.di\n",
    "w=rbf0.nodes\n",
    "t2-t1"
   ]
  },
  {
   "cell_type": "code",
   "execution_count": 7,
   "metadata": {},
   "outputs": [
    {
     "output_type": "execute_result",
     "data": {
      "text/plain": "(array(987.99999771), 988.0)"
     },
     "metadata": {},
     "execution_count": 7
    }
   ],
   "source": [
    "rbf0(x[0],y[0]),z[0]"
   ]
  },
  {
   "cell_type": "code",
   "execution_count": 8,
   "metadata": {},
   "outputs": [],
   "source": [
    "from scipy.special import xlogy\n",
    "from scipy.spatial.distance import cdist, pdist, squareform\n"
   ]
  },
  {
   "cell_type": "code",
   "execution_count": 19,
   "metadata": {},
   "outputs": [
    {
     "output_type": "execute_result",
     "data": {
      "text/plain": "(265532804.60104138,\n 617317577646.1301,\n '   ',\n 617317577552.3302,\n 617317577552.3302,\n -0.00014090773926164757,\n -0.00014090773926164757)"
     },
     "metadata": {},
     "execution_count": 19
    }
   ],
   "source": [
    "xi=np.vstack([x,y])\n",
    "di=z\n",
    "N=x.shape[0]\n",
    "xi_pdist=pdist(xi.T,\"euclidean\")\n",
    "r_dist = squareform(xi_pdist) \n",
    "r=r_dist\n",
    "init_f = xlogy(r**2, r)\n",
    "init_f.shape\n",
    "myA=init_f-np.eye(N)*0.1\n",
    "myw=linalg.solve(myA, di)\n",
    "r.sum(),init_f.sum(),\"   \",A.sum(),myA.sum(),w.sum(),myw.sum()\n",
    "# Pairwise norm\n",
    "        # return self._init_function(r) - np.eye(self.N)*self.smooth"
   ]
  },
  {
   "cell_type": "code",
   "execution_count": 10,
   "metadata": {},
   "outputs": [],
   "source": [
    "np.savetxt(\"./data/py-input-x\",x,fmt=\"%.8f\")\n",
    "np.savetxt(\"./data/py-input-y\",y,fmt=\"%.8f\")\n",
    "np.savetxt(\"./data/py-input-z\",z,fmt=\"%.8f\")\n",
    "np.savetxt(\"./data/py-get-dist\",r,fmt=\"%.8f\")\n",
    "np.savetxt(\"./data/py-get-f\",init_f,fmt=\"%.8f\")\n",
    "np.savetxt(\"./data/py-get-A\",myA,fmt=\"%.8f\")\n",
    "np.savetxt(\"./data/py-get-w\",myw,fmt=\"%.8f\")"
   ]
  },
  {
   "cell_type": "code",
   "execution_count": 11,
   "metadata": {},
   "outputs": [
    {
     "output_type": "execute_result",
     "data": {
      "text/plain": "(938, 938)"
     },
     "metadata": {},
     "execution_count": 11
    }
   ],
   "source": [
    "r.shape"
   ]
  },
  {
   "cell_type": "code",
   "execution_count": 12,
   "metadata": {},
   "outputs": [
    {
     "output_type": "execute_result",
     "data": {
      "text/plain": "(938, 938)"
     },
     "metadata": {},
     "execution_count": 12
    }
   ],
   "source": [
    "init_f.shape"
   ]
  },
  {
   "cell_type": "code",
   "execution_count": 13,
   "metadata": {},
   "outputs": [
    {
     "output_type": "execute_result",
     "data": {
      "text/plain": "array([[0.00000000e+00, 1.49838514e+02, 7.98210697e+02, ...,\n        3.86658587e+06, 3.89047295e+06, 3.91695419e+06],\n       [1.49838514e+02, 0.00000000e+00, 1.51253055e+02, ...,\n        3.88402410e+06, 3.90929452e+06, 3.93719082e+06],\n       [7.98210697e+02, 1.51253055e+02, 0.00000000e+00, ...,\n        3.90258073e+06, 3.92924103e+06, 3.95855916e+06],\n       ...,\n       [3.86658587e+06, 3.88402410e+06, 3.90258073e+06, ...,\n        0.00000000e+00, 3.21668799e+02, 1.69379046e+03],\n       [3.89047295e+06, 3.90929452e+06, 3.92924103e+06, ...,\n        3.21668799e+02, 0.00000000e+00, 3.38667597e+02],\n       [3.91695419e+06, 3.93719082e+06, 3.95855916e+06, ...,\n        1.69379046e+03, 3.38667597e+02, 0.00000000e+00]])"
     },
     "metadata": {},
     "execution_count": 13
    }
   ],
   "source": [
    "init_f"
   ]
  },
  {
   "cell_type": "code",
   "execution_count": 14,
   "metadata": {},
   "outputs": [
    {
     "output_type": "execute_result",
     "data": {
      "text/plain": "array([[0.1, 0. , 0. , ..., 0. , 0. , 0. ],\n       [0. , 0.1, 0. , ..., 0. , 0. , 0. ],\n       [0. , 0. , 0.1, ..., 0. , 0. , 0. ],\n       ...,\n       [0. , 0. , 0. , ..., 0.1, 0. , 0. ],\n       [0. , 0. , 0. , ..., 0. , 0.1, 0. ],\n       [0. , 0. , 0. , ..., 0. , 0. , 0.1]])"
     },
     "metadata": {},
     "execution_count": 14
    }
   ],
   "source": [
    "np.eye(N)*0.1"
   ]
  },
  {
   "cell_type": "code",
   "execution_count": 15,
   "metadata": {},
   "outputs": [
    {
     "output_type": "execute_result",
     "data": {
      "text/plain": "array([[  0,   1],\n       [  0,   2],\n       [  0,   3],\n       ...,\n       [937, 934],\n       [937, 935],\n       [937, 936]])"
     },
     "metadata": {},
     "execution_count": 15
    }
   ],
   "source": [
    "np.argwhere(r>0)"
   ]
  },
  {
   "cell_type": "code",
   "execution_count": 16,
   "metadata": {},
   "outputs": [
    {
     "output_type": "execute_result",
     "data": {
      "text/plain": "(-0.452880859375, -0.453857421875)"
     },
     "metadata": {},
     "execution_count": 16
    }
   ],
   "source": [
    "init_f.sum()-617317577646.5830,A.sum()-617317577552.7841"
   ]
  },
  {
   "cell_type": "code",
   "execution_count": 17,
   "metadata": {},
   "outputs": [
    {
     "output_type": "execute_result",
     "data": {
      "text/plain": "array([[0.1, 0. , 0. , ..., 0. , 0. , 0. ],\n       [0. , 0.1, 0. , ..., 0. , 0. , 0. ],\n       [0. , 0. , 0.1, ..., 0. , 0. , 0. ],\n       ...,\n       [0. , 0. , 0. , ..., 0.1, 0. , 0. ],\n       [0. , 0. , 0. , ..., 0. , 0.1, 0. ],\n       [0. , 0. , 0. , ..., 0. , 0. , 0.1]])"
     },
     "metadata": {},
     "execution_count": 17
    }
   ],
   "source": [
    "np.eye(N)*0.1"
   ]
  },
  {
   "cell_type": "code",
   "execution_count": 18,
   "metadata": {},
   "outputs": [
    {
     "output_type": "execute_result",
     "data": {
      "text/plain": "(788.826836126515, 320.0, 988.0)"
     },
     "metadata": {},
     "execution_count": 18
    }
   ],
   "source": [
    "x[0],y[0],z[0]"
   ]
  },
  {
   "cell_type": "code",
   "execution_count": null,
   "metadata": {},
   "outputs": [],
   "source": []
  }
 ],
 "metadata": {
  "language_info": {
   "codemirror_mode": {
    "name": "ipython",
    "version": 3
   },
   "file_extension": ".py",
   "mimetype": "text/x-python",
   "name": "python",
   "nbconvert_exporter": "python",
   "pygments_lexer": "ipython3",
   "version": "3.7.3-final"
  },
  "orig_nbformat": 2,
  "kernelspec": {
   "name": "python3",
   "display_name": "Python 3"
  }
 },
 "nbformat": 4,
 "nbformat_minor": 2
}